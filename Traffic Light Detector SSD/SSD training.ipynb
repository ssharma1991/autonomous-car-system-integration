{
 "cells": [
  {
   "cell_type": "markdown",
   "metadata": {},
   "source": [
    "# Load Data"
   ]
  },
  {
   "cell_type": "code",
   "execution_count": 2,
   "metadata": {
    "ExecuteTime": {
     "end_time": "2020-03-05T10:31:29.148380Z",
     "start_time": "2020-03-05T10:31:29.140563Z"
    }
   },
   "outputs": [],
   "source": [
    "import os\n",
    "current_dir=os.getcwd()\n",
    "real_data_info=os.path.join(current_dir,'dataset-sdcnd-capstone','data','real_training_data','real_data_annotations.yaml')\n",
    "sim_data_info=os.path.join(current_dir,'dataset-sdcnd-capstone','data','sim_training_data','sim_data_annotations.yaml')"
   ]
  },
  {
   "cell_type": "code",
   "execution_count": null,
   "metadata": {},
   "outputs": [],
   "source": [
    "# pip install pyyaml\n",
    "import yaml\n",
    "\n",
    "with open(\"example.yaml\", 'r') as stream:\n",
    "    try:\n",
    "        print(yaml.safe_load(stream))\n",
    "    except yaml.YAMLError as exc:\n",
    "        print(exc)"
   ]
  },
  {
   "cell_type": "markdown",
   "metadata": {},
   "source": [
    "# Load ML Model"
   ]
  },
  {
   "cell_type": "code",
   "execution_count": null,
   "metadata": {},
   "outputs": [],
   "source": []
  }
 ],
 "metadata": {
  "kernelspec": {
   "display_name": "Python 3",
   "language": "python",
   "name": "python3"
  },
  "language_info": {
   "codemirror_mode": {
    "name": "ipython",
    "version": 3
   },
   "file_extension": ".py",
   "mimetype": "text/x-python",
   "name": "python",
   "nbconvert_exporter": "python",
   "pygments_lexer": "ipython3",
   "version": "3.7.6"
  }
 },
 "nbformat": 4,
 "nbformat_minor": 4
}
